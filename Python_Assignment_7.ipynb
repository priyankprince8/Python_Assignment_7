{
  "nbformat": 4,
  "nbformat_minor": 0,
  "metadata": {
    "colab": {
      "provenance": []
    },
    "kernelspec": {
      "name": "python3",
      "display_name": "Python 3"
    },
    "language_info": {
      "name": "python"
    }
  },
  "cells": [
    {
      "cell_type": "code",
      "execution_count": 1,
      "metadata": {
        "id": "ZMzE5OZVqHI-"
      },
      "outputs": [],
      "source": [
        "#1. What is the name of the feature responsible for generating Regex objects?\n",
        "#the feature responsible for generating Regex (regular expression) objects is part of the re module. The re module provides support for regular expressions, and the specific feature responsible for creating Regex objects is the compile() function."
      ]
    },
    {
      "cell_type": "code",
      "source": [
        "#2. Why do raw strings often appear in Regex objects?\n",
        "#Raw strings are used so that backslashes do not have to be escaped."
      ],
      "metadata": {
        "id": "z6C80i9nrVmU"
      },
      "execution_count": 2,
      "outputs": []
    },
    {
      "cell_type": "code",
      "source": [
        "#3. What is the return value of the search() method?\n",
        "#the return value of the search() method is that it returns Match objects.The search() function searches the string for a match, and returns a Match object if there is a match.\n",
        "import re\n",
        "\n",
        "data = \"This is iNeuron Full Stack Data Science Class\"\n",
        "x = re.search(\"i\", data)\n",
        "\n",
        "print(\"The first i character is located in position:\", x.start())\n",
        "type(x)"
      ],
      "metadata": {
        "colab": {
          "base_uri": "https://localhost:8080/"
        },
        "id": "N8aIm6FWrnZR",
        "outputId": "b7b7b838-6865-42b4-c77f-9906aee12bf3"
      },
      "execution_count": 3,
      "outputs": [
        {
          "output_type": "stream",
          "name": "stdout",
          "text": [
            "The first i character is located in position: 2\n"
          ]
        },
        {
          "output_type": "execute_result",
          "data": {
            "text/plain": [
              "re.Match"
            ]
          },
          "metadata": {},
          "execution_count": 3
        }
      ]
    },
    {
      "cell_type": "code",
      "source": [
        "#4. From a Match item, how do you get the actual strings that match the pattern?\n",
        "#The group() method returns strings of the matched text."
      ],
      "metadata": {
        "id": "4GYJJJg5sI7t"
      },
      "execution_count": 4,
      "outputs": []
    },
    {
      "cell_type": "code",
      "source": [
        "#5. In the regex which created from the r'(\\d\\d\\d)-(\\d\\d\\d-\\d\\d\\d\\d)', what does group zero cover? Group 2? Group 1?\n",
        "#Group 0 is the entire match, group 1 covers the first set of parentheses, and group 2 covers the second set of parentheses."
      ],
      "metadata": {
        "id": "OyC5vwa6snI1"
      },
      "execution_count": 5,
      "outputs": []
    },
    {
      "cell_type": "code",
      "source": [
        "#6. In standard expression syntax, parentheses and intervals have distinct meanings. How can you tell a regex that you want it to fit real parentheses and periods?\n",
        "#Periods and parentheses can be escaped with a backslash: \\"
      ],
      "metadata": {
        "id": "VMLnXLiftJgr"
      },
      "execution_count": 6,
      "outputs": []
    },
    {
      "cell_type": "code",
      "source": [
        "#7. The findall() method returns a string list or a list of string tuples. What causes it to return one of the two options?\n",
        "#If the regex has no groups, a list of strings is returned. If the regex has groups, a list of tuples of strings is returned."
      ],
      "metadata": {
        "id": "dxCDXe-qtYUq"
      },
      "execution_count": 7,
      "outputs": []
    },
    {
      "cell_type": "code",
      "source": [
        "#8. In standard expressions, what does the | character mean?\n",
        "#The | character signifies matching \"either, or\" between two groups."
      ],
      "metadata": {
        "id": "8ylXvNixuyG3"
      },
      "execution_count": 8,
      "outputs": []
    },
    {
      "cell_type": "code",
      "source": [
        "#9. In regular expressions, what does the character stand for?\n",
        "#In regular expressions (regex), certain characters have special meanings and are referred to as metacharacters."
      ],
      "metadata": {
        "id": "xbLvVQRLu9wR"
      },
      "execution_count": 9,
      "outputs": []
    },
    {
      "cell_type": "code",
      "source": [
        "#10.In regular expressions, what is the difference between the + and * characters?\n",
        "#The + matches one or more. The * matches zero or more."
      ],
      "metadata": {
        "id": "Yh0l7x5_vjUd"
      },
      "execution_count": 10,
      "outputs": []
    },
    {
      "cell_type": "code",
      "source": [
        "#11. What is the difference between {4} and {4,5} in regular expression?\n",
        "#The {4} matches exactly three instances of the preceding group. The {4,5} matches between four and five instances."
      ],
      "metadata": {
        "id": "I7Mgoyd8vu6j"
      },
      "execution_count": 11,
      "outputs": []
    },
    {
      "cell_type": "code",
      "source": [
        "#12. What do you mean by the \\d, \\w, and \\s shorthand character classes signify in regular expressions?\n",
        "#The \\d, \\w, and \\s shorthand character classes match a single digit, word, or space character, respectively."
      ],
      "metadata": {
        "id": "wOs5Q7SFv2j1"
      },
      "execution_count": 12,
      "outputs": []
    },
    {
      "cell_type": "code",
      "source": [
        "#13. What do means by \\D, \\W, and \\S shorthand character classes signify in regular expressions?\n",
        "#The \\D, \\W, and \\S shorthand character classes match a single character that is not a digit, word, or space character, respectively."
      ],
      "metadata": {
        "id": "iFpUOrOpxtTC"
      },
      "execution_count": 13,
      "outputs": []
    },
    {
      "cell_type": "code",
      "source": [
        "#14. What is the difference between .*? and .*?\n",
        "#The .* performs a greedy match, and the .*? performs a nongreedy match."
      ],
      "metadata": {
        "id": "NP6SEf_yx-63"
      },
      "execution_count": 15,
      "outputs": []
    },
    {
      "cell_type": "code",
      "source": [
        "#15. What is the syntax for matching both numbers and lowercase letters with a character class?\n",
        "#Either [0-9a-z] or [a-z0-9]"
      ],
      "metadata": {
        "id": "s2bD2hUmyDEV"
      },
      "execution_count": 16,
      "outputs": []
    },
    {
      "cell_type": "code",
      "source": [
        "#16. What is the procedure for making a normal expression in regax case insensitive?\n",
        "#Passing re.I or re.IGNORECASE as the second argument to re.compile() will make the matching case insensitive."
      ],
      "metadata": {
        "id": "2-sVdrJRyWTp"
      },
      "execution_count": 17,
      "outputs": []
    },
    {
      "cell_type": "code",
      "source": [
        "#17. What does the . character normally match? What does it match if re.DOTALL is passed as 2nd argument in re.compile()?\n",
        "#The . character normally matches any character except the newline character. If re.DOTALL is passed as the second argument to re.compile(), then the dot will also match newline characters.\n"
      ],
      "metadata": {
        "id": "cwVReDG0yoOx"
      },
      "execution_count": 18,
      "outputs": []
    },
    {
      "cell_type": "code",
      "source": [
        "#18. If numRegex = re.compile(r'\\d+'), what will numRegex.sub('X', '11 drummers, 10 pipers, five rings, 4 hen') return?\n",
        "import re\n",
        "\n",
        "numRegex = re.compile(r'\\d+')\n",
        "result = numRegex.sub('X', '11 drummers, 10 pipers, five rings, 4 hen')\n",
        "\n",
        "print(result)\n"
      ],
      "metadata": {
        "colab": {
          "base_uri": "https://localhost:8080/"
        },
        "id": "XcfU8-JSy4Hu",
        "outputId": "deaa84fa-2b24-4a5d-a6c6-f7b562e4d2da"
      },
      "execution_count": 19,
      "outputs": [
        {
          "output_type": "stream",
          "name": "stdout",
          "text": [
            "X drummers, X pipers, five rings, X hen\n"
          ]
        }
      ]
    },
    {
      "cell_type": "code",
      "source": [
        "#19. What does passing re.VERBOSE as the 2nd argument to re.compile() allow to do?\n",
        "#The re.VERBOSE argument allows you to add whitespace and comments to the string passed to re.compile()."
      ],
      "metadata": {
        "id": "L3eQb1jgzs2u"
      },
      "execution_count": 20,
      "outputs": []
    },
    {
      "cell_type": "code",
      "source": [
        "#20. How would you write a regex that match a number with comma for every three digits? It must\n",
        "#match the given following:\n",
        "#'42'\n",
        "#'1,234'\n",
        "#'6,368,745'\n",
        "import re\n",
        "\n",
        "pattern = re.compile(r'^\\d{1,3}(,\\d{3})*$')\n",
        "\n",
        "# Test cases\n",
        "test_cases = ['42', '1,234', '6,368,745']\n",
        "\n",
        "for test_case in test_cases:\n",
        "    if pattern.match(test_case):\n",
        "        print(f'Match: {test_case}')\n",
        "    else:\n",
        "        print(f'No match: {test_case}')\n"
      ],
      "metadata": {
        "colab": {
          "base_uri": "https://localhost:8080/"
        },
        "id": "SJfzAHswz9U9",
        "outputId": "f8f868dd-3e10-4d15-95ec-665b41f9df6a"
      },
      "execution_count": 21,
      "outputs": [
        {
          "output_type": "stream",
          "name": "stdout",
          "text": [
            "Match: 42\n",
            "Match: 1,234\n",
            "Match: 6,368,745\n"
          ]
        }
      ]
    },
    {
      "cell_type": "code",
      "source": [
        "#but not the following:\n",
        "#'12,34,567' (which has only two digits between the commas)\n",
        "#'1234' (which lacks commas)\n",
        "\n",
        "import re\n",
        "\n",
        "pattern = re.compile(r'^\\d{1,3}(,\\d{3})*$')\n",
        "\n",
        "# Test cases\n",
        "test_cases = ['42', '1,234', '6,368,745', '12,34,567', '1234']\n",
        "\n",
        "for test_case in test_cases:\n",
        "    if pattern.match(test_case):\n",
        "        print(f'Match: {test_case}')\n",
        "    else:\n",
        "        print(f'No match: {test_case}')\n"
      ],
      "metadata": {
        "colab": {
          "base_uri": "https://localhost:8080/"
        },
        "id": "rH97D9oH0zF_",
        "outputId": "df960726-8b4a-41a4-b9bd-3a0cf57a3147"
      },
      "execution_count": 23,
      "outputs": [
        {
          "output_type": "stream",
          "name": "stdout",
          "text": [
            "Match: 42\n",
            "Match: 1,234\n",
            "Match: 6,368,745\n",
            "No match: 12,34,567\n",
            "No match: 1234\n"
          ]
        }
      ]
    },
    {
      "cell_type": "code",
      "source": [
        "#21.How would you write a regex that matches the full name of someone whose last name is Watanabe? You can assume that the first name that comes before it will always be one word that begins with a capital letter. The regex must match the following:\n",
        "\n",
        "#'Haruto Watanabe'\n",
        "#'Alice Watanabe'\n",
        "#'RoboCop Watanabe'\n",
        "#but not the following:\n",
        "#'haruto Watanabe' (where the first name is not capitalized)\n",
        "#'Mr. Watanabe' (where the preceding word has a nonletter character)\n",
        "#'Watanabe' (which has no first name)\n",
        "#'Haruto watanabe' (where Watanabe is not capitalized)\n",
        "\n",
        "import re\n",
        "\n",
        "pattern = re.compile(r'^[A-Z][a-zA-Z]*\\sWatanabe$')\n",
        "\n",
        "# Test cases\n",
        "test_cases = ['Haruto Watanabe', 'Alice Watanabe', 'RoboCop Watanabe',\n",
        "              'haruto Watanabe', 'Mr. Watanabe', 'Watanabe', 'Haruto watanabe']\n",
        "\n",
        "for test_case in test_cases:\n",
        "    if pattern.match(test_case):\n",
        "        print(f'Match: {test_case}')\n",
        "    else:\n",
        "        print(f'No match: {test_case}')\n"
      ],
      "metadata": {
        "colab": {
          "base_uri": "https://localhost:8080/"
        },
        "id": "8rQrJgS71FVG",
        "outputId": "2735a0c7-5384-49b5-bc6a-9490f29478a1"
      },
      "execution_count": 24,
      "outputs": [
        {
          "output_type": "stream",
          "name": "stdout",
          "text": [
            "Match: Haruto Watanabe\n",
            "Match: Alice Watanabe\n",
            "Match: RoboCop Watanabe\n",
            "No match: haruto Watanabe\n",
            "No match: Mr. Watanabe\n",
            "No match: Watanabe\n",
            "No match: Haruto watanabe\n"
          ]
        }
      ]
    },
    {
      "cell_type": "code",
      "source": [
        "#22.How would you write a regex that matches a sentence where the first word is either Alice, Bob, or Carol; the second word is either eats, pets, or throws; the third word is apples, cats, or baseballs; and the sentence ends with a period? This regex should be case-insensitive. It must match the following:\n",
        "\n",
        "#'Alice eats apples.'\n",
        "#'Bob pets cats.'\n",
        "#'Carol throws baseballs.'\n",
        "#'Alice throws Apples.'\n",
        "#'BOB EATS CATS.'\n",
        "#but not the following:\n",
        "#'RoboCop eats apples.'\n",
        "#'ALICE THROWS FOOTBALLS.'\n",
        "#'Carol eats 7 cats.'\n",
        "\n",
        "import re\n",
        "\n",
        "pattern = re.compile(r'^(Alice|Bob|Carol)\\s(eats|pets|throws)\\s(apples|cats|baseballs)\\.$', re.IGNORECASE)\n",
        "\n",
        "# Test cases\n",
        "test_cases = ['Alice eats apples.', 'Bob pets cats.', 'Carol throws baseballs.',\n",
        "              'Alice throws Apples.', 'BOB EATS CATS.',\n",
        "              'RoboCop eats apples.', 'ALICE THROWS FOOTBALLS.', 'Carol eats 7 cats.']\n",
        "\n",
        "for test_case in test_cases:\n",
        "    if pattern.match(test_case):\n",
        "        print(f'Match: {test_case}')\n",
        "    else:\n",
        "        print(f'No match: {test_case}')\n"
      ],
      "metadata": {
        "colab": {
          "base_uri": "https://localhost:8080/"
        },
        "id": "DccDWRAa1ztd",
        "outputId": "b67554ae-c230-489d-bf24-d24daed374d3"
      },
      "execution_count": 25,
      "outputs": [
        {
          "output_type": "stream",
          "name": "stdout",
          "text": [
            "Match: Alice eats apples.\n",
            "Match: Bob pets cats.\n",
            "Match: Carol throws baseballs.\n",
            "Match: Alice throws Apples.\n",
            "Match: BOB EATS CATS.\n",
            "No match: RoboCop eats apples.\n",
            "No match: ALICE THROWS FOOTBALLS.\n",
            "No match: Carol eats 7 cats.\n"
          ]
        }
      ]
    },
    {
      "cell_type": "code",
      "source": [],
      "metadata": {
        "id": "SuXpXQmy2TQm"
      },
      "execution_count": null,
      "outputs": []
    }
  ]
}